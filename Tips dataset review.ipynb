{
 "cells": [
  {
   "cell_type": "markdown",
   "metadata": {},
   "source": [
    "# **Review of tips dataset**\n",
    "## **Table of contents**\n",
    "* [Introduction](#Introduction)\n",
    "* [Setup](#Setup)\n",
    "* [What is the tips dataset?](#What-is-the-tips-dataset?)\n",
    "* [Some statistics on the dataset](#Some-statistics-on-the-dataset)\n",
    "* [Description of dataset](#Description-of-dataset)\n",
    "* [Skewness and kurtosis of dataset](#Skewness-and-kurtosis-of-dataset)\n",
    "* [Correlation of the dataset](#Correlation-of-the-dataset)\n",
    "* [Plotting statistics](#Plotting-statistics)\n",
    "* [Description discussion](#Description-discussion)\n",
    "* [Regression analysis: Table bill vs tips](#Regression-analysis:-Table-bill-vs-tips)\n",
    "* [Best fit and mean fit lines](#Best-fit-and-mean-fit-lines)\n",
    "* [Regression discussion](#Regression-discussion)\n",
    "* [Some other analysis](#Some-other-analysis)\n",
    "* [Time of dinner](#time-of-dinner)\n",
    "* [Smoker](#Smoker)\n",
    "* [Description of new datasets](#Description-of-new-datasets)\n",
    "* [Correlation of the new datasets](#Correlation-of-the-new-datasets)\n",
    "* [Skewness and kurtosis of new datasets](#Skewness-and-kurtosis-of-new-datasets)\n",
    "* [Plotting other analysis](#Plotting-other-analysis)\n",
    "* [Discussion of other analysis](#Discussion-of-other-analysis)\n",
    "* [Further potential analysis](#Further-potential-analysis)\n",
    "*[Bibliography](#Bibliography)\n",
    "\n",
    "## **Introduction**\n",
    "In this notebook, it is intended to review the tips dataset, which can be found online. To do this, a number of approaches will be taken. The first step will be to review the data using standard descriptive statistics, such as mean, mode, median, quartile ranges, standard deviation, etc. Other information will also be gleaned, such as the skewness, and kurtosis of the data (this will be explained in the relevant section), as well as correlation and covariance between certain data sets.\n",
    "\n",
    "A second step will be to conduct some analysis between the fields of total-bill and tip, to determine a relationship. This analysis will also include both a best fit, and a mean fit lines. These lines can be used for various reasons, and will be discussed in the regression analysis section.\n",
    "\n",
    "The third section, two subsets of the data will be extricated from the data, and compared to each other. The two subsets of the data chosen for this analysis are the time that the diner at the location, as well as whether the diner was a smoker or not. Similar analysis will conducted with regards to these two data sets, as was conducted on the overall dataset. A discussion of the results can be found in the discussion of further analysis section.\n",
    "\n",
    "A final section covers other potential analysis that could be undertaken, using the same dataset.\n",
    "\n",
    "The tips dataset that was used in the below was sourced from [here](http://https://raw.githubusercontent.com/mwaskom/seaborn-data/master/tips.csv). Note the data here is the raw form, to make it easier to import into our code.\n",
    "\n",
    "*Note: in this text, a number of ideas, or explanations may be mentioned. These have all been sourced either from the works listed in the bibliography, or from the author’s own ideas. For the sake of legibility, unless a direct quote, comparison, or specific suggestion is used, it will not be cited in the standard academic (Harvard) manner.\n",
    "### Setup\n",
    "Before running any analysis of the data, it is necessary to import the data, and the libraries that we will be using. In this case, it is intended to import the following libraries:\n",
    "- **Numpy**: To run some functions for analysis.\n",
    "- **Pandas**: The dataset will be held in various pandas dataframes. The pandas library will also be used to conduct various analytical exercises.\n",
    "- **Seaborn**: Will be used for various plotting functionality.\n",
    "- **Matplotlib.pyplot**: For use in some graphing functionality.\n",
    "\n",
    "Additionally, throughout this notebook, the main dataframe that will hold the dataset will be called *tips_ds*. The below code is used to import the libraries and dataset."
   ]
  },
  {
   "cell_type": "code",
   "execution_count": 49,
   "metadata": {},
   "outputs": [],
   "source": [
    "# Initial setup of tips dataset\n",
    "\n",
    "# Importation of libraries\n",
    "import pandas as pd\n",
    "import numpy as np\n",
    "import seaborn as sns\n",
    "import matplotlib.pyplot as plt\n",
    "\n",
    "# Load tips dataset\n",
    "\n",
    "# Source URL\n",
    "url = \"https://raw.githubusercontent.com/mwaskom/seaborn-data/master/tips.csv\"\n",
    "\n",
    "# Creation of tips_ds dataframe\n",
    "tips_ds = pd.read_csv(url)"
   ]
  },
  {
   "cell_type": "markdown",
   "metadata": {},
   "source": [
    "It should be noted that the above code does not have any outputs. The confirmation that the code was successfully imported can be found at the end of [What is the tips dataset?](#What-is-the-tips-dataset?) (below).\n",
    "\n",
    "## **What is the tips dataset?**\n",
    "The tips dataset is a set of data that is often used to teach analytical skills, especially around the segregation of data, and analysis of a group, or a whole set. Additionally, it could be used for extrapolation of data, where the data in question is not included in the actual dataset. The data forms part of a tutorial for the Python Seaborn package, and is used to demonstrate how to conduct plotting of data in Python.\n",
    "\n",
    "This information that was recorded fell into 7 different columns. These were:\n",
    "- **total-bill**: the total bill for each meal (numerical values to two decimal places).\n",
    "- **tip**: the tip received for each meal (numerical values to two decimal places).\n",
    "- **sex**: gender of the table (either male or female. Doesn’t note if this was the gender of the payer, but would be safe to assume so).\n",
    "- **smoker**: whether the table being served was in a smoking or non-smoking section (this was California in the 1990s after all)\n",
    "- **day**: day of the week that the meal was being served. Covers only Thursday to Sunday.\n",
    "- **time**: the time of day that the service was being conducted. Broken down as either lunch or dinner service.\n",
    "- **size**: the number of people in the party (whole numerical value).\n",
    "In total the collector made 244 entries into the dataset.\n",
    "\n",
    "All the above data can be confirmed by Python."
   ]
  },
  {
   "cell_type": "code",
   "execution_count": 50,
   "metadata": {},
   "outputs": [
    {
     "name": "stdout",
     "output_type": "stream",
     "text": [
      "\n",
      "Confirmation of tips dataset shape, and types\n",
      "\n",
      "Rows, Cols\n",
      "(244, 7)\n",
      "\n",
      "Data types\n",
      "total_bill    float64\n",
      "tip           float64\n",
      "sex            object\n",
      "smoker         object\n",
      "day            object\n",
      "time           object\n",
      "size            int64\n",
      "dtype: object\n"
     ]
    }
   ],
   "source": [
    "# Confirmations\n",
    "print()\n",
    "print(\"Confirmation of tips dataset shape, and types\")\n",
    "print()\n",
    "print(\"Rows,\", \"Cols\")\n",
    "print(tips_ds.shape)\n",
    "print()\n",
    "print(\"Data types\")\n",
    "print(tips_ds.dtypes)"
   ]
  },
  {
   "cell_type": "markdown",
   "metadata": {},
   "source": [
    "***\n",
    "## **Some statistics on the dataset**\n",
    "In order to be able to work with the dataset, and draw any conclusions from the data, it is important to determine some of the dataset’s properties. In order to do this, we will extract basic measures, more commonly known as descriptive statistics. These statistics can then be used as a guide to further analysis, and comparison. \n",
    "#### Description of dataset\n",
    "The initial set of descriptive statistics are the mean, mode, and median of the data, as well as standard deviation, quartiles, and min and max values. Luckily, pandas has the ability to provide the values for most of these statistics, using the *describe* function. However, while this is useful, it is also necessary to understand what the terms provided by the *describe* function actually mean.\n",
    "- **Mean**: Also known as the simple average, is the sum of all the values divided by the number of values being summed.\n",
    "- **Standard deviation**: A measure of how are a number is from the mean. In a perfectly normal distribution, ~68% of all values would be within 1 standard deviation of the mean. Represented in the *describe* output as *std*.\n",
    "- **min**: The lowest value within the dataset.\n",
    "- **25%**: The value for the 25th percentile. In other words, 25% of all the values in the dataset are below this value.\n",
    "- **50%**: The value for the 50% percentile. In other words, 50% of all the values in the dataset are below this value. This value is often called the median value.\n",
    "- **75%**: The value for the 75th percentile. In other words, 75% of all the values in the dataset are below this value.\n",
    "- **Max**: The largest value in the dataset.\n",
    "\n",
    "The values for the tips dataset are retrieved as follows:"
   ]
  },
  {
   "cell_type": "code",
   "execution_count": 51,
   "metadata": {},
   "outputs": [
    {
     "name": "stdout",
     "output_type": "stream",
     "text": [
      "\n",
      "Descriptions of the tips dataset\n",
      "\n",
      "       total_bill         tip        size\n",
      "count  244.000000  244.000000  244.000000\n",
      "mean    19.785943    2.998279    2.569672\n",
      "std      8.902412    1.383638    0.951100\n",
      "min      3.070000    1.000000    1.000000\n",
      "25%     13.347500    2.000000    2.000000\n",
      "50%     17.795000    2.900000    2.000000\n",
      "75%     24.127500    3.562500    3.000000\n",
      "max     50.810000   10.000000    6.000000\n"
     ]
    }
   ],
   "source": [
    "# Describe function for the tips dataset\n",
    "print()\n",
    "print(\"Descriptions of the tips dataset\")\n",
    "print()\n",
    "print(tips_ds.describe())"
   ]
  },
  {
   "cell_type": "markdown",
   "metadata": {},
   "source": [
    "As we can see, certain measures from the descriptive statistics such as mode, skewness, and kurtosis are missing from the *describe* functionality. These statistics also give rise to important information regarding the dataset. The [skewness and kurtosis](#Skewness-and-kurtosis-of-new-datasets) will be dealt with in their respective section. This leaves the mode to be ascertained. \n",
    "\n",
    "The mode of a set of numbers, is the number that appears most often within that set. It is not necessarily close to the median or mean of a dataset, and can be well outside the 1st standard deviation of the data (this can happen when the distribution of the data is skewed). If no number appears most often (i.e. no number appears more often than any other number), then there is no mode for the data. Additionally, unlike the mean, and median statistics, which need to have numbers to work, the *mode* function can work on any set of data.\n",
    "\n",
    "Using pandas, the mode can be determined using the *mode* function."
   ]
  },
  {
   "cell_type": "code",
   "execution_count": 52,
   "metadata": {},
   "outputs": [
    {
     "name": "stdout",
     "output_type": "stream",
     "text": [
      "\n",
      "Mode for the tips dataset\n",
      "\n",
      "   total_bill  tip   sex smoker  day    time  size\n",
      "0       13.42  2.0  Male     No  Sat  Dinner     2\n"
     ]
    }
   ],
   "source": [
    "# Mode function for the tips dataset\n",
    "print()\n",
    "print(\"Mode for the tips dataset\")\n",
    "print()\n",
    "print(tips_ds.mode())"
   ]
  },
  {
   "cell_type": "markdown",
   "metadata": {},
   "source": [
    "The *describe* function only returns data for numerical fields, while the *mode* function included information on the mode of the columns that contained string. The *describe* function can be used to provide some descriptive statistics on the data in the non-numeical columns. This is done by the inclusion of the *include=[np.object]* argument in the *describe* function. In addition to the statistics returned in the original extract, the following statistics are provided:\n",
    "\n",
    "- **Unique**: The number of unique values to be found in the column.\n",
    "- **Top**: The value returned most frequently in the column. Should return the smae value as the *mode* function.\n",
    "- **Freq**: The frequency of the most commonly returned value from top/mode.\n",
    "\n",
    "Using this *describe(include=[np.object])*  function, the following values are returned for the tips dataset."
   ]
  },
  {
   "cell_type": "code",
   "execution_count": 53,
   "metadata": {},
   "outputs": [
    {
     "name": "stdout",
     "output_type": "stream",
     "text": [
      "\n",
      "Descriptive statistics for the non-numerical columns\n",
      "\n",
      "         sex smoker  day    time\n",
      "count    244    244  244     244\n",
      "unique     2      2    4       2\n",
      "top     Male     No  Sat  Dinner\n",
      "freq     157    151   87     176\n"
     ]
    }
   ],
   "source": [
    "# Describe(include=[np.object]) function for the tips dataset\n",
    "\n",
    "print()\n",
    "print(\"Descriptive statistics for the non-numerical columns\")\n",
    "print()\n",
    "print(tips_ds.describe(include=[np.object]))"
   ]
  },
  {
   "cell_type": "markdown",
   "metadata": {},
   "source": [
    "As we can see the *describe(include=[np.object])* functionality provides additional clarity to the *mode* function for the dataframe.\n",
    "#### Skewness and kurtosis of new datasets\n",
    "\n",
    "The skewness and kurtosis are interrelated terms that are used to describe the nature of the distribution of the dataset, and how it differs from a normally distributed dataset. The definition of these terms are:\n",
    "- **Skewness**: the direction and amount of asymmetry of the dataset about its mean. If the absolute value of the skewness is:\n",
    "> - greater than 1, the data is highly skewed and the distribution is very asymmetric.\n",
    "> - greater than 0.5 and less than 1, the data is moderately skewed, and the distribution is somewhat asymmetric.\n",
    "> - greater than 0, and less than 0.5, the distribution of the data is approximately symmetric.\n",
    "> - equal to 0, the data is normally distributed, and symmetric.\n",
    "\n",
    "The sign of the skewness (i.e. positive or negative) also determines the skewness. Negative skewness indicates that the distribution is skewed to the left, the mean being less than the median, which is less than the mode. Positive values of skewness indicate the opposite, with the distribution being skewed to the right, and the mode being less than the median, which is less than the mean.\n",
    "- **Kurtosis**: the kurtosis of a dataset indicates the sharpness, or flatness, of the peak of the data (around the mode, or mean, depending on the skewness). \n",
    "\n",
    "The kurtosis is measure against the normal distribution, which has a kurtosis of 0. If the kurtosis is negative, then distribution of the data has a smaller standard deviation, as more values are grouped near the mean. This gives the distribution a sharper, and higher peak, and narrower body. A positive kurtosis indicates that there is less grouping around the mean, and indicating that the distribution has a larger standard deviation. This also gives the distribution a flatter, and lower peak, and a wider body.\n",
    "\n",
    "In pandas, the skewness and kurtosis of a dataset can be ascertained using the *skew* and *kurt* functions. These functions return values for each numeric column within the data set."
   ]
  },
  {
   "cell_type": "code",
   "execution_count": 54,
   "metadata": {},
   "outputs": [
    {
     "name": "stdout",
     "output_type": "stream",
     "text": [
      "\n",
      "Skewness\n",
      "total_bill    1.133213\n",
      "tip           1.465451\n",
      "size          1.447882\n",
      "dtype: float64\n",
      "\n",
      "Kurtosis\n",
      "total_bill    1.218484\n",
      "tip           3.648376\n",
      "size          1.731700\n",
      "dtype: float64\n"
     ]
    }
   ],
   "source": [
    "# Skewness and kurtosis of the dataframe\n",
    "print()\n",
    "print(\"Skewness\")\n",
    "print(tips_ds.skew())\n",
    "print()\n",
    "print(\"Kurtosis\")\n",
    "print(tips_ds.kurt())"
   ]
  },
  {
   "cell_type": "markdown",
   "metadata": {},
   "source": [
    "#### Correlation\n",
    "Correlation is a statistic that can be used to measure how well two sets of data correspond to each other. Weisstein (2019) defines correlation as *“the degree to which two or more quantities are linearly associated.* As such, a correlation coefficient can be calculated that shows the relationship between the two sets of variables, as well strength of the relationship.\n",
    "\n",
    "In correlation analysis, positive values show that the two sets of data are positively correlated (i.e. as one value rises or falls, so does the other). Conversely, negative values indicate that the two data sets are negatively or inversely correlated (i.e. as one value rises, or falls, the other falls, or rises). A zero value indicates that there is no relationship between the two sets of data. The strength of the relationship is indicated be the actual value of the correlation coefficient. An absolute value above 0.5 is considered a strong correlation, and above 0.75 is a very strong correlation. A value of -1 or 1 means that the two sets of data are perfectly correlated (i.e. either perfectly positive or perfectly negative correlation).\n",
    "\n",
    "In pandas dataframes, the *corr* function can be used to ascertain the correlation between numeric sets of data.\n"
   ]
  },
  {
   "cell_type": "code",
   "execution_count": 55,
   "metadata": {},
   "outputs": [
    {
     "name": "stdout",
     "output_type": "stream",
     "text": [
      "\n",
      "Correlation coefficient for the tips dataset\n",
      "\n",
      "           total_bill       tip      size\n",
      "total_bill             0.675734  0.598315\n",
      "tip          0.675734            0.489299\n",
      "size         0.598315  0.489299          \n"
     ]
    }
   ],
   "source": [
    "# Correlation analysis fot the tips dataset\n",
    "print()\n",
    "print(\"Correlation coefficient for the tips dataset\")\n",
    "print()\n",
    "\n",
    "# Create new dataframe for the correlation coefficient values\n",
    "tips_corr_ds = tips_ds.corr(method=\"pearson\")\n",
    "\n",
    "# As each column will be perfectly correlated with itself, there is no need to show these values\n",
    "# Replace the values of 1 with a blank value\n",
    "tips_corr_ds = tips_corr_ds.replace({1.00000: \"\"})\n",
    "\n",
    "# Print the new dataframe to show the correlation coefficients of the tips dataset\n",
    "print(tips_corr_ds)"
   ]
  },
  {
   "cell_type": "markdown",
   "metadata": {},
   "source": [
    "As there are 3 sets of numeric data, the correlation gives a 3x3 grid of data (with the diagonal self correlation coefficent blanked out)."
   ]
  },
  {
   "cell_type": "code",
   "execution_count": null,
   "metadata": {},
   "outputs": [],
   "source": []
  }
 ],
 "metadata": {
  "kernelspec": {
   "display_name": "Python 3",
   "language": "python",
   "name": "python3"
  },
  "language_info": {
   "codemirror_mode": {
    "name": "ipython",
    "version": 3
   },
   "file_extension": ".py",
   "mimetype": "text/x-python",
   "name": "python",
   "nbconvert_exporter": "python",
   "pygments_lexer": "ipython3",
   "version": "3.7.3"
  }
 },
 "nbformat": 4,
 "nbformat_minor": 2
}
